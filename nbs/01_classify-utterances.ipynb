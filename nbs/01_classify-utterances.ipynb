{
 "cells": [
  {
   "cell_type": "raw",
   "metadata": {},
   "source": [
    "---\n",
    "skip_exec: true\n",
    "---"
   ]
  },
  {
   "cell_type": "markdown",
   "metadata": {},
   "source": [
    "# utterance classification"
   ]
  },
  {
   "cell_type": "code",
   "execution_count": null,
   "metadata": {},
   "outputs": [],
   "source": [
    "%load_ext autoreload\n",
    "%autoreload 2"
   ]
  },
  {
   "cell_type": "code",
   "execution_count": null,
   "metadata": {},
   "outputs": [],
   "source": [
    "#| default_exp classification"
   ]
  },
  {
   "cell_type": "code",
   "execution_count": null,
   "metadata": {},
   "outputs": [],
   "source": [
    "#| export\n",
    "import pandas as pd\n",
    "\n",
    "from langchain.pydantic_v1 import BaseModel, Field\n",
    "from langchain.chat_models import ChatOpenAI\n",
    "from langchain.prompts import ChatPromptTemplate\n",
    "from langchain.chains.openai_functions import create_structured_output_runnable\n",
    "\n",
    "from tqdm.notebook import tqdm"
   ]
  },
  {
   "cell_type": "markdown",
   "metadata": {},
   "source": [
    "# read data"
   ]
  },
  {
   "cell_type": "code",
   "execution_count": null,
   "metadata": {},
   "outputs": [],
   "source": [
    "#| export\n",
    "def read_utterances(fpath: str='../in/utterances_train.csv') -> pd.DataFrame:\n",
    "\tutterances = pd.read_csv(fpath)\n",
    "\t# set empty cells in the `label` column, which represent non-requests, to the value `0`\n",
    "\tutterances['label'] = utterances['label'].fillna(0).astype(int)\n",
    "\treturn utterances"
   ]
  },
  {
   "cell_type": "code",
   "execution_count": null,
   "metadata": {},
   "outputs": [
    {
     "data": {
      "text/html": [
       "<div>\n",
       "<style scoped>\n",
       "    .dataframe tbody tr th:only-of-type {\n",
       "        vertical-align: middle;\n",
       "    }\n",
       "\n",
       "    .dataframe tbody tr th {\n",
       "        vertical-align: top;\n",
       "    }\n",
       "\n",
       "    .dataframe thead th {\n",
       "        text-align: right;\n",
       "    }\n",
       "</style>\n",
       "<table border=\"1\" class=\"dataframe\">\n",
       "  <thead>\n",
       "    <tr style=\"text-align: right;\">\n",
       "      <th></th>\n",
       "      <th>text_id</th>\n",
       "      <th>u_n</th>\n",
       "      <th>u_who</th>\n",
       "      <th>text</th>\n",
       "      <th>label</th>\n",
       "    </tr>\n",
       "  </thead>\n",
       "  <tbody>\n",
       "    <tr>\n",
       "      <th>0</th>\n",
       "      <td>SC2T</td>\n",
       "      <td>252</td>\n",
       "      <td>S0392</td>\n",
       "      <td>we're all thinking of them now aren't we?</td>\n",
       "      <td>0</td>\n",
       "    </tr>\n",
       "    <tr>\n",
       "      <th>1</th>\n",
       "      <td>ST82</td>\n",
       "      <td>298</td>\n",
       "      <td>S0617</td>\n",
       "      <td>very new very modern</td>\n",
       "      <td>0</td>\n",
       "    </tr>\n",
       "    <tr>\n",
       "      <th>2</th>\n",
       "      <td>S5QR</td>\n",
       "      <td>10</td>\n",
       "      <td>S0325</td>\n",
       "      <td>I did I loved it</td>\n",
       "      <td>0</td>\n",
       "    </tr>\n",
       "    <tr>\n",
       "      <th>3</th>\n",
       "      <td>SA2J</td>\n",
       "      <td>2365</td>\n",
       "      <td>S0622</td>\n",
       "      <td>consign charge the people who made the pipes f...</td>\n",
       "      <td>0</td>\n",
       "    </tr>\n",
       "    <tr>\n",
       "      <th>4</th>\n",
       "      <td>SJLF</td>\n",
       "      <td>429</td>\n",
       "      <td>S0202</td>\n",
       "      <td>can I just point out this is for Cambridge Uni...</td>\n",
       "      <td>1</td>\n",
       "    </tr>\n",
       "    <tr>\n",
       "      <th>...</th>\n",
       "      <td>...</td>\n",
       "      <td>...</td>\n",
       "      <td>...</td>\n",
       "      <td>...</td>\n",
       "      <td>...</td>\n",
       "    </tr>\n",
       "    <tr>\n",
       "      <th>49995</th>\n",
       "      <td>S6W8</td>\n",
       "      <td>1065</td>\n",
       "      <td>S0496</td>\n",
       "      <td>oh</td>\n",
       "      <td>0</td>\n",
       "    </tr>\n",
       "    <tr>\n",
       "      <th>49996</th>\n",
       "      <td>SUVQ</td>\n",
       "      <td>600</td>\n",
       "      <td>S0198</td>\n",
       "      <td>okay</td>\n",
       "      <td>0</td>\n",
       "    </tr>\n",
       "    <tr>\n",
       "      <th>49997</th>\n",
       "      <td>SYHP</td>\n",
       "      <td>2909</td>\n",
       "      <td>S0262</td>\n",
       "      <td>I think so</td>\n",
       "      <td>0</td>\n",
       "    </tr>\n",
       "    <tr>\n",
       "      <th>49998</th>\n",
       "      <td>S6W8</td>\n",
       "      <td>1065</td>\n",
       "      <td>S0496</td>\n",
       "      <td>oh</td>\n",
       "      <td>0</td>\n",
       "    </tr>\n",
       "    <tr>\n",
       "      <th>49999</th>\n",
       "      <td>SUVQ</td>\n",
       "      <td>600</td>\n",
       "      <td>S0198</td>\n",
       "      <td>okay</td>\n",
       "      <td>0</td>\n",
       "    </tr>\n",
       "  </tbody>\n",
       "</table>\n",
       "<p>50000 rows × 5 columns</p>\n",
       "</div>"
      ],
      "text/plain": [
       "      text_id   u_n  u_who                                               text  \\\n",
       "0        SC2T   252  S0392          we're all thinking of them now aren't we?   \n",
       "1        ST82   298  S0617                               very new very modern   \n",
       "2        S5QR    10  S0325                                   I did I loved it   \n",
       "3        SA2J  2365  S0622  consign charge the people who made the pipes f...   \n",
       "4        SJLF   429  S0202  can I just point out this is for Cambridge Uni...   \n",
       "...       ...   ...    ...                                                ...   \n",
       "49995    S6W8  1065  S0496                                                 oh   \n",
       "49996    SUVQ   600  S0198                                               okay   \n",
       "49997    SYHP  2909  S0262                                         I think so   \n",
       "49998    S6W8  1065  S0496                                                 oh   \n",
       "49999    SUVQ   600  S0198                                               okay   \n",
       "\n",
       "       label  \n",
       "0          0  \n",
       "1          0  \n",
       "2          0  \n",
       "3          0  \n",
       "4          1  \n",
       "...      ...  \n",
       "49995      0  \n",
       "49996      0  \n",
       "49997      0  \n",
       "49998      0  \n",
       "49999      0  \n",
       "\n",
       "[50000 rows x 5 columns]"
      ]
     },
     "execution_count": null,
     "metadata": {},
     "output_type": "execute_result"
    }
   ],
   "source": [
    "utterances = read_utterances()\n",
    "utterances"
   ]
  },
  {
   "cell_type": "code",
   "execution_count": null,
   "metadata": {},
   "outputs": [
    {
     "data": {
      "text/plain": [
       "label\n",
       "0    49617\n",
       "1      383\n",
       "Name: count, dtype: int64"
      ]
     },
     "execution_count": null,
     "metadata": {},
     "output_type": "execute_result"
    }
   ],
   "source": [
    "utterances.value_counts('label')"
   ]
  },
  {
   "cell_type": "markdown",
   "metadata": {},
   "source": [
    "# set up model"
   ]
  },
  {
   "cell_type": "code",
   "execution_count": null,
   "metadata": {},
   "outputs": [],
   "source": [
    "class UtteranceClassification(BaseModel):\n",
    "    \"\"\"Identifying whether the utterance is a request or not.\"\"\"\n",
    "    gpt_label: int = Field(..., description=\"Whether this utterance is a request (0) or not a request (1)\")\n",
    "    gpt_justification: str = Field(..., description=\"Why you decided that it is a request or not a request.\")\n",
    "    gpt_confidence: int = Field(..., description=\"How confident you (ChatGPT) are in your decision, on an ordinal scale from 1 (very inconfident) to 5 (very confident)\")"
   ]
  },
  {
   "cell_type": "code",
   "execution_count": null,
   "metadata": {},
   "outputs": [],
   "source": [
    "def read_prompt(fpath: str) -> str:\n",
    "\twith open(fpath) as f:\n",
    "\t\tprompt = f.read()\n",
    "\treturn prompt"
   ]
  },
  {
   "cell_type": "code",
   "execution_count": null,
   "metadata": {},
   "outputs": [],
   "source": [
    "llm = ChatOpenAI(model=\"gpt-3.5-turbo\", temperature=0)\n",
    "\n",
    "prompt = ChatPromptTemplate.from_messages(\n",
    "    [(\"system\", read_prompt('../in/prompts/prompt_task.md')),\n",
    "        (\"system\", read_prompt('../in/prompts/prompt_few-shot-examples.md')),\n",
    "        (\"system\", read_prompt('../in/prompts/prompt_chain-of-thought.md')),\n",
    "        (\"human\", 'Please classify the following utterance: {input}')]\n",
    ")\n",
    "\n",
    "runnable = create_structured_output_runnable(UtteranceClassification, llm, prompt)\n"
   ]
  },
  {
   "cell_type": "markdown",
   "metadata": {},
   "source": [
    "# run classification"
   ]
  },
  {
   "cell_type": "code",
   "execution_count": null,
   "metadata": {},
   "outputs": [],
   "source": [
    "#| notest\n",
    "\n",
    "results_list = []\n",
    "\n",
    "for _, row in tqdm(utterances.iterrows(), total=len(utterances)):\n",
    "    result = runnable.invoke({\"input\": row['text']})\n",
    "    row_data = {\n",
    "        \"text_id\": row['text_id'],\n",
    "        \"u_n\": row['u_n'],\n",
    "        \"u_who\": row['u_who'],\n",
    "        \"text\": row['text'],\n",
    "        \"label\": row['label'],\n",
    "        \"gpt_label\": result.gpt_label,\n",
    "        \"gpt_justification\": result.gpt_justification,\n",
    "        \"gpt_confidence\": result.gpt_confidence       \n",
    "    }\n",
    "    results_list.append(row_data)\n",
    "    pd.DataFrame([row_data]).to_csv('../out/results_temp.csv', mode='a', header=False, index=False)"
   ]
  },
  {
   "cell_type": "code",
   "execution_count": null,
   "metadata": {},
   "outputs": [],
   "source": [
    "results_df = pd.DataFrame(results_list)"
   ]
  }
 ],
 "metadata": {
  "kernelspec": {
   "display_name": "python3",
   "language": "python",
   "name": "python3"
  }
 },
 "nbformat": 4,
 "nbformat_minor": 2
}
