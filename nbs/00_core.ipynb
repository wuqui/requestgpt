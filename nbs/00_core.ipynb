{
 "cells": [
  {
   "cell_type": "code",
   "execution_count": null,
   "metadata": {},
   "outputs": [],
   "source": [
    "%load_ext autoreload\n",
    "%autoreload 2"
   ]
  },
  {
   "cell_type": "code",
   "execution_count": null,
   "metadata": {},
   "outputs": [],
   "source": [
    "#| default_exp core"
   ]
  },
  {
   "cell_type": "markdown",
   "metadata": {},
   "source": [
    "# RequestGPT\n",
    "\n",
    "> Analysing requests using GPT."
   ]
  },
  {
   "cell_type": "code",
   "execution_count": null,
   "metadata": {},
   "outputs": [],
   "source": [
    "from requestgpt.src import *"
   ]
  },
  {
   "cell_type": "markdown",
   "metadata": {},
   "source": [
    "## load data"
   ]
  },
  {
   "cell_type": "code",
   "execution_count": null,
   "metadata": {},
   "outputs": [],
   "source": [
    "df = load_data()"
   ]
  },
  {
   "cell_type": "markdown",
   "metadata": {},
   "source": [
    "## set up GPT"
   ]
  },
  {
   "cell_type": "code",
   "execution_count": null,
   "metadata": {},
   "outputs": [],
   "source": [
    "#| notest\n",
    "api_key = get_api_key()"
   ]
  },
  {
   "cell_type": "code",
   "execution_count": null,
   "metadata": {},
   "outputs": [],
   "source": [
    "prompt = \"\"\"\n",
    "You work as a corpuslinguistic annotator for a research project in linguistics.\n",
    "Your task is to annotate data from the BNC 2014 spoken corpus, which contains written transcripts of spoken conversations of British English.\n",
    "You are given an utterance and your job is to decide it is a request or not.\n",
    "If they are requests, label them with the integer 1. If they are not requests, label them with the integer 0.\n",
    "You should classify utterances as requests if they meet both of the following criteria:\n",
    "1. The speaker prompts the listener to a future action.\n",
    "2. The future action brings advantages for the speaker.\n",
    "\"\"\""
   ]
  },
  {
   "cell_type": "code",
   "execution_count": null,
   "metadata": {},
   "outputs": [],
   "source": [
    "from simpleaichat import AIChat"
   ]
  },
  {
   "cell_type": "code",
   "execution_count": null,
   "metadata": {},
   "outputs": [],
   "source": [
    "#| notest\n",
    "model='gpt-3.5-turbo'\n",
    "# model='gpt-4'\n",
    "\n",
    "ai = AIChat(model, system=prompt,\n",
    "    console=False, save_messages=False, params={\"temperature\": 0.0}\n",
    ")"
   ]
  },
  {
   "cell_type": "code",
   "execution_count": null,
   "metadata": {},
   "outputs": [],
   "source": [
    "df_dev = get_sample(df, 6)"
   ]
  },
  {
   "cell_type": "code",
   "execution_count": null,
   "metadata": {},
   "outputs": [
    {
     "name": "stderr",
     "output_type": "stream",
     "text": [
      "100%|██████████| 6/6 [00:05<00:00,  1.10it/s]\n",
      "/var/folders/gp/dw55jb3d3gl6jn22rscvxjm40000gn/T/ipykernel_50125/1062465001.py:8: FutureWarning: Returning a DataFrame from Series.apply when the supplied function returns a Series is deprecated and will be removed in a future version.\n",
      "  return pd.concat([df, ai_labels.apply(pd.Series).add_prefix('gpt_')], axis=1)\n"
     ]
    }
   ],
   "source": [
    "#| notest\n",
    "df_out = run_model(ai, df_dev)"
   ]
  },
  {
   "cell_type": "code",
   "execution_count": null,
   "metadata": {},
   "outputs": [
    {
     "data": {
      "text/html": [
       "<div>\n",
       "<style scoped>\n",
       "    .dataframe tbody tr th:only-of-type {\n",
       "        vertical-align: middle;\n",
       "    }\n",
       "\n",
       "    .dataframe tbody tr th {\n",
       "        vertical-align: top;\n",
       "    }\n",
       "\n",
       "    .dataframe thead th {\n",
       "        text-align: right;\n",
       "    }\n",
       "</style>\n",
       "<table border=\"1\" class=\"dataframe\">\n",
       "  <thead>\n",
       "    <tr style=\"text-align: right;\">\n",
       "      <th></th>\n",
       "      <th>text_id</th>\n",
       "      <th>u_n</th>\n",
       "      <th>u_who</th>\n",
       "      <th>text</th>\n",
       "      <th>label</th>\n",
       "      <th>gpt_label</th>\n",
       "    </tr>\n",
       "  </thead>\n",
       "  <tbody>\n",
       "    <tr>\n",
       "      <th>28285</th>\n",
       "      <td>S6BS</td>\n",
       "      <td>2125</td>\n",
       "      <td>S0594</td>\n",
       "      <td>yeah</td>\n",
       "      <td>0</td>\n",
       "      <td>0</td>\n",
       "    </tr>\n",
       "    <tr>\n",
       "      <th>8111</th>\n",
       "      <td>SLSS</td>\n",
       "      <td>186</td>\n",
       "      <td>S0585</td>\n",
       "      <td>I think it might be</td>\n",
       "      <td>0</td>\n",
       "      <td>0</td>\n",
       "    </tr>\n",
       "    <tr>\n",
       "      <th>49888</th>\n",
       "      <td>SNE5</td>\n",
       "      <td>39</td>\n",
       "      <td>S0391</td>\n",
       "      <td>have you looked at the twitter feed you get</td>\n",
       "      <td>0</td>\n",
       "      <td>0</td>\n",
       "    </tr>\n",
       "    <tr>\n",
       "      <th>24170</th>\n",
       "      <td>SDFL</td>\n",
       "      <td>420</td>\n",
       "      <td>S0154</td>\n",
       "      <td>can you not put it on the apple sauce though p...</td>\n",
       "      <td>1</td>\n",
       "      <td>0</td>\n",
       "    </tr>\n",
       "    <tr>\n",
       "      <th>25323</th>\n",
       "      <td>S632</td>\n",
       "      <td>2321</td>\n",
       "      <td>S0222</td>\n",
       "      <td>can you hold him still so I can touch him with...</td>\n",
       "      <td>1</td>\n",
       "      <td>0</td>\n",
       "    </tr>\n",
       "    <tr>\n",
       "      <th>32199</th>\n",
       "      <td>S985</td>\n",
       "      <td>662</td>\n",
       "      <td>S0336</td>\n",
       "      <td>hi can I order erm a takeaway for collection p...</td>\n",
       "      <td>1</td>\n",
       "      <td>1</td>\n",
       "    </tr>\n",
       "  </tbody>\n",
       "</table>\n",
       "</div>"
      ],
      "text/plain": [
       "      text_id   u_n  u_who                                               text  \\\n",
       "28285    S6BS  2125  S0594                                               yeah   \n",
       "8111     SLSS   186  S0585                                I think it might be   \n",
       "49888    SNE5    39  S0391        have you looked at the twitter feed you get   \n",
       "24170    SDFL   420  S0154  can you not put it on the apple sauce though p...   \n",
       "25323    S632  2321  S0222  can you hold him still so I can touch him with...   \n",
       "32199    S985   662  S0336  hi can I order erm a takeaway for collection p...   \n",
       "\n",
       "       label  gpt_label  \n",
       "28285      0          0  \n",
       "8111       0          0  \n",
       "49888      0          0  \n",
       "24170      1          0  \n",
       "25323      1          0  \n",
       "32199      1          1  "
      ]
     },
     "execution_count": null,
     "metadata": {},
     "output_type": "execute_result"
    }
   ],
   "source": [
    "#| notest\n",
    "df_out"
   ]
  },
  {
   "cell_type": "code",
   "execution_count": null,
   "metadata": {},
   "outputs": [],
   "source": [
    "#| notest\n",
    "df_out.to_csv(f'../out/requests_gpt_{model}.csv', index=False)"
   ]
  }
 ],
 "metadata": {
  "kernelspec": {
   "display_name": "python3",
   "language": "python",
   "name": "python3"
  }
 },
 "nbformat": 4,
 "nbformat_minor": 4
}
