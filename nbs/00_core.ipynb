{
 "cells": [
  {
   "cell_type": "code",
   "execution_count": 10,
   "metadata": {},
   "outputs": [
    {
     "name": "stdout",
     "output_type": "stream",
     "text": [
      "The autoreload extension is already loaded. To reload it, use:\n",
      "  %reload_ext autoreload\n"
     ]
    }
   ],
   "source": [
    "%load_ext autoreload\n",
    "%autoreload 2"
   ]
  },
  {
   "cell_type": "code",
   "execution_count": 11,
   "metadata": {},
   "outputs": [],
   "source": [
    "#| default_exp core"
   ]
  },
  {
   "cell_type": "code",
   "execution_count": 12,
   "metadata": {},
   "outputs": [],
   "source": [
    "#| all_notest"
   ]
  },
  {
   "cell_type": "code",
   "execution_count": 18,
   "metadata": {},
   "outputs": [],
   "source": [
    "from requestgpt.src import *"
   ]
  },
  {
   "cell_type": "markdown",
   "metadata": {},
   "source": [
    "# RequestGPT\n",
    "\n",
    "> Analysing requests using GPT."
   ]
  },
  {
   "cell_type": "markdown",
   "metadata": {},
   "source": [
    "## load data"
   ]
  },
  {
   "cell_type": "code",
   "execution_count": 13,
   "metadata": {},
   "outputs": [],
   "source": [
    "import pandas as pd"
   ]
  },
  {
   "cell_type": "code",
   "execution_count": 19,
   "metadata": {},
   "outputs": [],
   "source": [
    "df = load_data()"
   ]
  },
  {
   "cell_type": "code",
   "execution_count": 20,
   "metadata": {},
   "outputs": [
    {
     "data": {
      "text/plain": [
       "label\n",
       "0    49617\n",
       "1      383\n",
       "Name: count, dtype: int64"
      ]
     },
     "execution_count": 20,
     "metadata": {},
     "output_type": "execute_result"
    }
   ],
   "source": [
    "df.value_counts('label')"
   ]
  },
  {
   "cell_type": "markdown",
   "metadata": {},
   "source": [
    "## set up model"
   ]
  },
  {
   "cell_type": "markdown",
   "metadata": {},
   "source": [
    "### set prompt"
   ]
  },
  {
   "cell_type": "code",
   "execution_count": 5,
   "metadata": {},
   "outputs": [],
   "source": [
    "#| export\n",
    "def read_prompt(fpath):\n",
    "    with open(fpath, 'r') as f:\n",
    "        prompt = f.read()\n",
    "    return prompt"
   ]
  },
  {
   "cell_type": "code",
   "execution_count": 6,
   "metadata": {},
   "outputs": [],
   "source": [
    "prompt_parts = [\n",
    "    read_prompt('../in/prompts/prompt_task.md'),\n",
    "    read_prompt('../in/prompts/prompt_few-shot-examples.md'),\n",
    "    read_prompt('../in/prompts/prompt_chain-of-thought.md'),\n",
    "    read_prompt('../in/prompts/prompt_closing.md')\n",
    "]\n",
    "\n",
    "prompt = '\\n\\n'.join(prompt_parts)\n"
   ]
  },
  {
   "cell_type": "code",
   "execution_count": 7,
   "metadata": {},
   "outputs": [],
   "source": [
    "from IPython.display import display, Markdown"
   ]
  },
  {
   "cell_type": "code",
   "execution_count": 8,
   "metadata": {},
   "outputs": [
    {
     "data": {
      "text/markdown": [
       "- You work as a corpus linguistic annotator for a research project in linguistics.\n",
       "- Your task is to annotate data from the BNC 2014 spoken corpus, which contains written transcripts of spoken conversations of British English.\n",
       "- You are given an utterance and you should classify it according to whether it is a request or not. \n",
       "    - If they are requests, label them with the integer 1. \n",
       "    - If they are not requests, label them with the integer 0.\n",
       "- You should classify utterances as requests if they meet both of the following criteria:\n",
       "\t1. The speaker prompts the listener to a future action.\n",
       "\t2. The future action brings advantages for the speaker.\n",
       "\n",
       "Here are some examples to help you understand the task:\n",
       "\n",
       "- The following utterances should be classified as requests:\n",
       "\t- \"can I have another piece\": request, label: 1\n",
       "\t- \"who's got a lighter?\": request, label: 1\n",
       "\t- \"okay can we stop?\": request, label: 1\n",
       "\t- \"hang on\": request, label: 1\n",
       "\t- \"just accept it fucking rained heavily\": request, label: 1\n",
       "- The following utterances should not be classified as requests:\n",
       "\t- \"it is really good\": not a request, label: 0\n",
       "\t- \"I'll show you\": not a request, label: 0\n",
       "\t- \"you know\": not a request, label: 0\n",
       "\t- \"so that the next time we buy\": not a request, label: 0\n",
       "\t- \"Cos how do you go down to Devon usually?\": not a request, label: 0\n",
       "\n",
       "\n",
       "Please use a chain of thought for classifying utterances:\n",
       "\n",
       "1. Read the utterance.\n",
       "2. Determine if the speaker is prompting the listener to a future action.\n",
       "3. Determine if the future action brings advantages for the speaker.\n",
       "4. If both criteria are met, label the utterance as a request (1). If not, label it as not a request (0).\n",
       "\n",
       "Please classify the following utterance:"
      ],
      "text/plain": [
       "<IPython.core.display.Markdown object>"
      ]
     },
     "metadata": {},
     "output_type": "display_data"
    }
   ],
   "source": [
    "display(Markdown(prompt))"
   ]
  },
  {
   "cell_type": "markdown",
   "metadata": {},
   "source": [
    "## run classification"
   ]
  },
  {
   "cell_type": "markdown",
   "metadata": {},
   "source": [
    "### load data"
   ]
  },
  {
   "cell_type": "markdown",
   "metadata": {},
   "source": [
    "#### full corpus"
   ]
  },
  {
   "cell_type": "code",
   "execution_count": 40,
   "metadata": {},
   "outputs": [],
   "source": [
    "utterances = pd.read_csv('../out/utterances.csv')\n",
    "results = pd.read_csv('../out/gpt_results.csv')"
   ]
  },
  {
   "cell_type": "code",
   "execution_count": 41,
   "metadata": {},
   "outputs": [],
   "source": [
    "# Merge the two DataFrames based on 'text_id' and 'u_n' columns\n",
    "merged_df = utterances.merge(results, on=['text_id', 'u_n'], how='left', indicator=True)\n",
    "# Filter rows that are only in 'utterances' and not in 'results'\n",
    "filtered_df = merged_df[merged_df['_merge'] == 'left_only']\n",
    "# Drop the '_merge' column if you don't need it\n",
    "utterances_todo = filtered_df.drop('_merge', axis=1)"
   ]
  },
  {
   "cell_type": "code",
   "execution_count": 42,
   "metadata": {},
   "outputs": [],
   "source": [
    "utterances_todo = (utterances_todo\n",
    " .drop(columns=['u_who_y', 'text_y', 'gpt_label', 'gpt_confidence', 'gpt_justification'])\n",
    " .rename(columns={\n",
    "\t'u_who_x': 'u_who',\n",
    "\t'text_x': 'text'\n",
    "\t})\n",
    ")"
   ]
  },
  {
   "cell_type": "code",
   "execution_count": 43,
   "metadata": {},
   "outputs": [
    {
     "data": {
      "text/plain": [
       "'done: 23843'"
      ]
     },
     "execution_count": 43,
     "metadata": {},
     "output_type": "execute_result"
    }
   ],
   "source": [
    "f'done: {len(utterances) - len(utterances_todo)}'"
   ]
  },
  {
   "cell_type": "markdown",
   "metadata": {},
   "source": [
    "#### 50k"
   ]
  },
  {
   "cell_type": "code",
   "execution_count": 17,
   "metadata": {},
   "outputs": [],
   "source": [
    "df = pd.read_csv('../in/utterances_requests_50k_labeled.csv')"
   ]
  },
  {
   "cell_type": "code",
   "execution_count": 24,
   "metadata": {},
   "outputs": [
    {
     "data": {
      "text/html": [
       "<div>\n",
       "<style scoped>\n",
       "    .dataframe tbody tr th:only-of-type {\n",
       "        vertical-align: middle;\n",
       "    }\n",
       "\n",
       "    .dataframe tbody tr th {\n",
       "        vertical-align: top;\n",
       "    }\n",
       "\n",
       "    .dataframe thead th {\n",
       "        text-align: right;\n",
       "    }\n",
       "</style>\n",
       "<table border=\"1\" class=\"dataframe\">\n",
       "  <thead>\n",
       "    <tr style=\"text-align: right;\">\n",
       "      <th></th>\n",
       "      <th>text_id</th>\n",
       "      <th>u_n</th>\n",
       "      <th>u_who</th>\n",
       "      <th>text</th>\n",
       "      <th>label</th>\n",
       "    </tr>\n",
       "  </thead>\n",
       "  <tbody>\n",
       "    <tr>\n",
       "      <th>0</th>\n",
       "      <td>SC2T</td>\n",
       "      <td>252</td>\n",
       "      <td>S0392</td>\n",
       "      <td>we're all thinking of them now aren't we?</td>\n",
       "      <td>NaN</td>\n",
       "    </tr>\n",
       "    <tr>\n",
       "      <th>1</th>\n",
       "      <td>ST82</td>\n",
       "      <td>298</td>\n",
       "      <td>S0617</td>\n",
       "      <td>very new very modern</td>\n",
       "      <td>NaN</td>\n",
       "    </tr>\n",
       "    <tr>\n",
       "      <th>2</th>\n",
       "      <td>S5QR</td>\n",
       "      <td>10</td>\n",
       "      <td>S0325</td>\n",
       "      <td>I did I loved it</td>\n",
       "      <td>NaN</td>\n",
       "    </tr>\n",
       "    <tr>\n",
       "      <th>3</th>\n",
       "      <td>SA2J</td>\n",
       "      <td>2365</td>\n",
       "      <td>S0622</td>\n",
       "      <td>consign charge the people who made the pipes f...</td>\n",
       "      <td>NaN</td>\n",
       "    </tr>\n",
       "    <tr>\n",
       "      <th>4</th>\n",
       "      <td>SJLF</td>\n",
       "      <td>429</td>\n",
       "      <td>S0202</td>\n",
       "      <td>can I just point out this is for Cambridge Uni...</td>\n",
       "      <td>1.0</td>\n",
       "    </tr>\n",
       "    <tr>\n",
       "      <th>...</th>\n",
       "      <td>...</td>\n",
       "      <td>...</td>\n",
       "      <td>...</td>\n",
       "      <td>...</td>\n",
       "      <td>...</td>\n",
       "    </tr>\n",
       "    <tr>\n",
       "      <th>49995</th>\n",
       "      <td>S6W8</td>\n",
       "      <td>1065</td>\n",
       "      <td>S0496</td>\n",
       "      <td>oh</td>\n",
       "      <td>NaN</td>\n",
       "    </tr>\n",
       "    <tr>\n",
       "      <th>49996</th>\n",
       "      <td>SUVQ</td>\n",
       "      <td>600</td>\n",
       "      <td>S0198</td>\n",
       "      <td>okay</td>\n",
       "      <td>NaN</td>\n",
       "    </tr>\n",
       "    <tr>\n",
       "      <th>49997</th>\n",
       "      <td>SYHP</td>\n",
       "      <td>2909</td>\n",
       "      <td>S0262</td>\n",
       "      <td>I think so</td>\n",
       "      <td>NaN</td>\n",
       "    </tr>\n",
       "    <tr>\n",
       "      <th>49998</th>\n",
       "      <td>S6W8</td>\n",
       "      <td>1065</td>\n",
       "      <td>S0496</td>\n",
       "      <td>oh</td>\n",
       "      <td>NaN</td>\n",
       "    </tr>\n",
       "    <tr>\n",
       "      <th>49999</th>\n",
       "      <td>SUVQ</td>\n",
       "      <td>600</td>\n",
       "      <td>S0198</td>\n",
       "      <td>okay</td>\n",
       "      <td>NaN</td>\n",
       "    </tr>\n",
       "  </tbody>\n",
       "</table>\n",
       "<p>50000 rows × 5 columns</p>\n",
       "</div>"
      ],
      "text/plain": [
       "      text_id   u_n  u_who                                               text  \\\n",
       "0        SC2T   252  S0392          we're all thinking of them now aren't we?   \n",
       "1        ST82   298  S0617                               very new very modern   \n",
       "2        S5QR    10  S0325                                   I did I loved it   \n",
       "3        SA2J  2365  S0622  consign charge the people who made the pipes f...   \n",
       "4        SJLF   429  S0202  can I just point out this is for Cambridge Uni...   \n",
       "...       ...   ...    ...                                                ...   \n",
       "49995    S6W8  1065  S0496                                                 oh   \n",
       "49996    SUVQ   600  S0198                                               okay   \n",
       "49997    SYHP  2909  S0262                                         I think so   \n",
       "49998    S6W8  1065  S0496                                                 oh   \n",
       "49999    SUVQ   600  S0198                                               okay   \n",
       "\n",
       "       label  \n",
       "0        NaN  \n",
       "1        NaN  \n",
       "2        NaN  \n",
       "3        NaN  \n",
       "4        1.0  \n",
       "...      ...  \n",
       "49995    NaN  \n",
       "49996    NaN  \n",
       "49997    NaN  \n",
       "49998    NaN  \n",
       "49999    NaN  \n",
       "\n",
       "[50000 rows x 5 columns]"
      ]
     },
     "execution_count": 24,
     "metadata": {},
     "output_type": "execute_result"
    }
   ],
   "source": [
    "df"
   ]
  },
  {
   "cell_type": "code",
   "execution_count": 28,
   "metadata": {},
   "outputs": [],
   "source": [
    "n_requests = len(df.query('label == 1'))"
   ]
  },
  {
   "cell_type": "code",
   "execution_count": 31,
   "metadata": {},
   "outputs": [],
   "source": [
    "utterances_todo = (df\n",
    " .sort_values('label')\n",
    " .head(n_requests*2)\n",
    ")"
   ]
  },
  {
   "cell_type": "markdown",
   "metadata": {},
   "source": [
    "### run classification"
   ]
  },
  {
   "cell_type": "code",
   "execution_count": 21,
   "metadata": {},
   "outputs": [],
   "source": [
    "import warnings\n",
    "\n",
    "warnings.filterwarnings(\"ignore\", category=FutureWarning)"
   ]
  },
  {
   "cell_type": "code",
   "execution_count": 22,
   "metadata": {},
   "outputs": [],
   "source": [
    "import datetime"
   ]
  },
  {
   "cell_type": "code",
   "execution_count": 23,
   "metadata": {},
   "outputs": [],
   "source": [
    "import logging\n",
    "\n",
    "logging.basicConfig(filename='progress.log', level=logging.INFO, format='%(asctime)s: %(message)s')\n",
    "\n",
    "# Set the logging level for the requests library to WARNING\n",
    "\n",
    "# import requests\n",
    "# warnings.filterwarnings(\"ignore\", category=DeprecationWarning, module=\"urllib3\")"
   ]
  },
  {
   "cell_type": "code",
   "execution_count": 39,
   "metadata": {},
   "outputs": [
    {
     "name": "stdout",
     "output_type": "stream",
     "text": [
      "2023-11-09 18:36: 0 / 100\n",
      "error: 2023-11-09 18:43: 0 / 100\n",
      "2023-11-09 18:43: 1 / 100\n",
      "error: 2023-11-09 18:47: 1 / 100\n",
      "2023-11-09 18:47: 2 / 100\n",
      "error: 2023-11-09 18:48: 2 / 100\n",
      "2023-11-09 18:48: 3 / 100\n",
      "2023-11-09 18:50: 4 / 100\n",
      "error: 2023-11-09 18:56: 4 / 100\n",
      "2023-11-09 18:56: 5 / 100\n",
      "error: 2023-11-09 18:58: 5 / 100\n",
      "2023-11-09 18:58: 6 / 100\n",
      "error: 2023-11-09 18:59: 6 / 100\n",
      "2023-11-09 18:59: 7 / 100\n",
      "error: 2023-11-09 18:59: 7 / 100\n",
      "2023-11-09 18:59: 8 / 100\n",
      "2023-11-09 18:59: 9 / 100\n",
      "2023-11-09 18:59: 10 / 100\n",
      "2023-11-09 18:59: 11 / 100\n",
      "2023-11-09 18:59: 12 / 100\n",
      "2023-11-09 18:59: 13 / 100\n",
      "2023-11-09 18:59: 14 / 100\n",
      "2023-11-09 18:59: 15 / 100\n",
      "2023-11-09 18:59: 16 / 100\n",
      "2023-11-09 18:59: 17 / 100\n",
      "2023-11-09 18:59: 18 / 100\n",
      "2023-11-09 18:59: 19 / 100\n",
      "2023-11-09 18:59: 20 / 100\n",
      "2023-11-09 18:59: 21 / 100\n",
      "2023-11-09 18:59: 22 / 100\n",
      "2023-11-09 18:59: 23 / 100\n",
      "2023-11-09 18:59: 24 / 100\n",
      "2023-11-09 18:59: 25 / 100\n",
      "2023-11-09 18:59: 26 / 100\n",
      "2023-11-09 18:59: 27 / 100\n",
      "2023-11-09 18:59: 28 / 100\n",
      "2023-11-09 18:59: 29 / 100\n",
      "2023-11-09 18:59: 30 / 100\n",
      "2023-11-09 18:59: 31 / 100\n",
      "2023-11-09 18:59: 32 / 100\n",
      "2023-11-09 18:59: 33 / 100\n",
      "2023-11-09 18:59: 34 / 100\n",
      "2023-11-09 18:59: 35 / 100\n",
      "2023-11-09 18:59: 36 / 100\n",
      "2023-11-09 18:59: 37 / 100\n",
      "2023-11-09 18:59: 38 / 100\n",
      "2023-11-09 18:59: 39 / 100\n",
      "2023-11-09 18:59: 40 / 100\n",
      "2023-11-09 18:59: 41 / 100\n",
      "2023-11-09 18:59: 42 / 100\n",
      "2023-11-09 18:59: 43 / 100\n",
      "2023-11-09 18:59: 44 / 100\n",
      "2023-11-09 18:59: 45 / 100\n",
      "2023-11-09 18:59: 46 / 100\n",
      "2023-11-09 18:59: 47 / 100\n",
      "2023-11-09 18:59: 48 / 100\n",
      "2023-11-09 18:59: 49 / 100\n",
      "2023-11-09 18:59: 50 / 100\n",
      "2023-11-09 18:59: 51 / 100\n",
      "2023-11-09 18:59: 52 / 100\n",
      "2023-11-09 18:59: 53 / 100\n",
      "2023-11-09 18:59: 54 / 100\n",
      "2023-11-09 18:59: 55 / 100\n",
      "2023-11-09 18:59: 56 / 100\n",
      "2023-11-09 18:59: 57 / 100\n",
      "2023-11-09 18:59: 58 / 100\n",
      "2023-11-09 18:59: 59 / 100\n",
      "2023-11-09 18:59: 60 / 100\n",
      "2023-11-09 18:59: 61 / 100\n",
      "2023-11-09 18:59: 62 / 100\n",
      "2023-11-09 18:59: 63 / 100\n",
      "2023-11-09 18:59: 64 / 100\n",
      "2023-11-09 18:59: 65 / 100\n",
      "2023-11-09 18:59: 66 / 100\n",
      "2023-11-09 18:59: 67 / 100\n",
      "2023-11-09 18:59: 68 / 100\n",
      "2023-11-09 18:59: 69 / 100\n",
      "2023-11-09 18:59: 70 / 100\n",
      "2023-11-09 18:59: 71 / 100\n",
      "2023-11-09 18:59: 72 / 100\n",
      "2023-11-09 18:59: 73 / 100\n",
      "2023-11-09 18:59: 74 / 100\n",
      "2023-11-09 18:59: 75 / 100\n",
      "2023-11-09 18:59: 76 / 100\n",
      "2023-11-09 18:59: 77 / 100\n",
      "2023-11-09 18:59: 78 / 100\n",
      "2023-11-09 18:59: 79 / 100\n",
      "2023-11-09 18:59: 80 / 100\n",
      "2023-11-09 18:59: 81 / 100\n",
      "2023-11-09 18:59: 82 / 100\n",
      "2023-11-09 18:59: 83 / 100\n",
      "2023-11-09 18:59: 84 / 100\n",
      "2023-11-09 18:59: 85 / 100\n",
      "2023-11-09 18:59: 86 / 100\n",
      "2023-11-09 18:59: 87 / 100\n",
      "2023-11-09 18:59: 88 / 100\n",
      "2023-11-09 18:59: 89 / 100\n",
      "2023-11-09 18:59: 90 / 100\n",
      "2023-11-09 18:59: 91 / 100\n",
      "2023-11-09 18:59: 92 / 100\n",
      "2023-11-09 18:59: 93 / 100\n",
      "2023-11-09 18:59: 94 / 100\n",
      "2023-11-09 18:59: 95 / 100\n",
      "2023-11-09 18:59: 96 / 100\n",
      "2023-11-09 18:59: 97 / 100\n",
      "2023-11-09 18:59: 98 / 100\n",
      "2023-11-09 18:59: 99 / 100\n"
     ]
    }
   ],
   "source": [
    "batches = 100\n",
    "batch_size = 100\n",
    "\n",
    "batch_results = pd.DataFrame()\n",
    "\n",
    "for batch in range(batches):\n",
    "    try:\n",
    "        start_idx = batch * batch_size\n",
    "        end_idx = (batch + 1) * batch_size\n",
    "        utterances_batch = utterances_todo.iloc[start_idx:end_idx].copy()\n",
    "\n",
    "        progress_message = f'{datetime.datetime.now().strftime(\"%Y-%m-%d %H:%M\")}: {batch} / {batches}'\n",
    "        logging.info(progress_message)\n",
    "        print(progress_message)\n",
    "\n",
    "        # Process the batch and create a DataFrame with the results\n",
    "        utterances_batch['gpt_dict'] = utterances_batch[\"text\"].apply(\n",
    "            lambda x: ai(str(x), output_schema=output_request)\n",
    "        )\n",
    "        batch_df = pd.concat([\n",
    "            utterances_batch,\n",
    "            utterances_batch['gpt_dict'].apply(pd.Series).add_prefix('gpt_')\n",
    "        ], axis=1).drop(columns=['gpt_dict'])\n",
    "\n",
    "        # Append the batch results to the batch_results DataFrame\n",
    "        batch_results = pd.concat([batch_results, batch_df], ignore_index=True)\n",
    "    except:\n",
    "        error_message = f'error: {datetime.datetime.now().strftime(\"%Y-%m-%d %H:%M\")}: {batch} / {batches}'\n",
    "        logging.info(error_message)\n",
    "        print(error_message)\n",
    "        continue"
   ]
  },
  {
   "cell_type": "code",
   "execution_count": 40,
   "metadata": {},
   "outputs": [
    {
     "data": {
      "text/html": [
       "<div>\n",
       "<style scoped>\n",
       "    .dataframe tbody tr th:only-of-type {\n",
       "        vertical-align: middle;\n",
       "    }\n",
       "\n",
       "    .dataframe tbody tr th {\n",
       "        vertical-align: top;\n",
       "    }\n",
       "\n",
       "    .dataframe thead th {\n",
       "        text-align: right;\n",
       "    }\n",
       "</style>\n",
       "<table border=\"1\" class=\"dataframe\">\n",
       "  <thead>\n",
       "    <tr style=\"text-align: right;\">\n",
       "      <th></th>\n",
       "      <th>text_id</th>\n",
       "      <th>u_n</th>\n",
       "      <th>u_who</th>\n",
       "      <th>text</th>\n",
       "      <th>label</th>\n",
       "      <th>gpt_label</th>\n",
       "      <th>gpt_justification</th>\n",
       "      <th>gpt_confidence</th>\n",
       "    </tr>\n",
       "  </thead>\n",
       "  <tbody>\n",
       "    <tr>\n",
       "      <th>0</th>\n",
       "      <td>SHCG</td>\n",
       "      <td>320</td>\n",
       "      <td>S0347</td>\n",
       "      <td>get your hand off my thigh</td>\n",
       "      <td>1.0</td>\n",
       "      <td>1.0</td>\n",
       "      <td>The utterance includes a command or request to...</td>\n",
       "      <td>5.0</td>\n",
       "    </tr>\n",
       "    <tr>\n",
       "      <th>1</th>\n",
       "      <td>S632</td>\n",
       "      <td>3087</td>\n",
       "      <td>S0202</td>\n",
       "      <td>please don't</td>\n",
       "      <td>1.0</td>\n",
       "      <td>0.0</td>\n",
       "      <td>The user requested not to do something.</td>\n",
       "      <td>5.0</td>\n",
       "    </tr>\n",
       "    <tr>\n",
       "      <th>2</th>\n",
       "      <td>SWY3</td>\n",
       "      <td>1846</td>\n",
       "      <td>S0391</td>\n",
       "      <td>hang on can I say Americano?</td>\n",
       "      <td>1.0</td>\n",
       "      <td>1.0</td>\n",
       "      <td>The user is asking if they can say 'Americano'.</td>\n",
       "      <td>4.0</td>\n",
       "    </tr>\n",
       "    <tr>\n",
       "      <th>3</th>\n",
       "      <td>S35K</td>\n",
       "      <td>2389</td>\n",
       "      <td>S0372</td>\n",
       "      <td>mail it to me</td>\n",
       "      <td>1.0</td>\n",
       "      <td>1.0</td>\n",
       "      <td>The user is requesting to have something maile...</td>\n",
       "      <td>5.0</td>\n",
       "    </tr>\n",
       "    <tr>\n",
       "      <th>4</th>\n",
       "      <td>S632</td>\n",
       "      <td>2243</td>\n",
       "      <td>S0208</td>\n",
       "      <td>let him go down your cleavage no one's let him...</td>\n",
       "      <td>1.0</td>\n",
       "      <td>0.0</td>\n",
       "      <td>This utterance is inappropriate and disrespect...</td>\n",
       "      <td>5.0</td>\n",
       "    </tr>\n",
       "    <tr>\n",
       "      <th>...</th>\n",
       "      <td>...</td>\n",
       "      <td>...</td>\n",
       "      <td>...</td>\n",
       "      <td>...</td>\n",
       "      <td>...</td>\n",
       "      <td>...</td>\n",
       "      <td>...</td>\n",
       "      <td>...</td>\n",
       "    </tr>\n",
       "    <tr>\n",
       "      <th>95</th>\n",
       "      <td>SWY3</td>\n",
       "      <td>2627</td>\n",
       "      <td>S0392</td>\n",
       "      <td>other ones you could've had were</td>\n",
       "      <td>NaN</td>\n",
       "      <td>0.0</td>\n",
       "      <td>The user's statement does not clearly indicate...</td>\n",
       "      <td>4.0</td>\n",
       "    </tr>\n",
       "    <tr>\n",
       "      <th>96</th>\n",
       "      <td>SUVQ</td>\n",
       "      <td>11621</td>\n",
       "      <td>S0236</td>\n",
       "      <td>yeah like</td>\n",
       "      <td>NaN</td>\n",
       "      <td>0.0</td>\n",
       "      <td>The user's utterance does not provide enough i...</td>\n",
       "      <td>3.0</td>\n",
       "    </tr>\n",
       "    <tr>\n",
       "      <th>97</th>\n",
       "      <td>SUVQ</td>\n",
       "      <td>2469</td>\n",
       "      <td>S0235</td>\n",
       "      <td>no no you</td>\n",
       "      <td>NaN</td>\n",
       "      <td>0.0</td>\n",
       "      <td>The user's utterance does not seem to be a req...</td>\n",
       "      <td>4.0</td>\n",
       "    </tr>\n",
       "    <tr>\n",
       "      <th>98</th>\n",
       "      <td>S3MW</td>\n",
       "      <td>864</td>\n",
       "      <td>S0615</td>\n",
       "      <td>mm</td>\n",
       "      <td>NaN</td>\n",
       "      <td>0.0</td>\n",
       "      <td>The utterance 'mm' does not indicate a request...</td>\n",
       "      <td>5.0</td>\n",
       "    </tr>\n",
       "    <tr>\n",
       "      <th>99</th>\n",
       "      <td>SGYW</td>\n",
       "      <td>38</td>\n",
       "      <td>S0070</td>\n",
       "      <td>all very old</td>\n",
       "      <td>NaN</td>\n",
       "      <td>0.0</td>\n",
       "      <td>The user's statement does not contain a request.</td>\n",
       "      <td>5.0</td>\n",
       "    </tr>\n",
       "  </tbody>\n",
       "</table>\n",
       "<p>100 rows × 8 columns</p>\n",
       "</div>"
      ],
      "text/plain": [
       "   text_id    u_n  u_who                                               text  \\\n",
       "0     SHCG    320  S0347                         get your hand off my thigh   \n",
       "1     S632   3087  S0202                                      please don't    \n",
       "2     SWY3   1846  S0391                       hang on can I say Americano?   \n",
       "3     S35K   2389  S0372                                      mail it to me   \n",
       "4     S632   2243  S0208  let him go down your cleavage no one's let him...   \n",
       "..     ...    ...    ...                                                ...   \n",
       "95    SWY3   2627  S0392                   other ones you could've had were   \n",
       "96    SUVQ  11621  S0236                                         yeah like    \n",
       "97    SUVQ   2469  S0235                                          no no you   \n",
       "98    S3MW    864  S0615                                                 mm   \n",
       "99    SGYW     38  S0070                                      all very old    \n",
       "\n",
       "    label  gpt_label                                  gpt_justification  \\\n",
       "0     1.0        1.0  The utterance includes a command or request to...   \n",
       "1     1.0        0.0            The user requested not to do something.   \n",
       "2     1.0        1.0    The user is asking if they can say 'Americano'.   \n",
       "3     1.0        1.0  The user is requesting to have something maile...   \n",
       "4     1.0        0.0  This utterance is inappropriate and disrespect...   \n",
       "..    ...        ...                                                ...   \n",
       "95    NaN        0.0  The user's statement does not clearly indicate...   \n",
       "96    NaN        0.0  The user's utterance does not provide enough i...   \n",
       "97    NaN        0.0  The user's utterance does not seem to be a req...   \n",
       "98    NaN        0.0  The utterance 'mm' does not indicate a request...   \n",
       "99    NaN        0.0   The user's statement does not contain a request.   \n",
       "\n",
       "    gpt_confidence  \n",
       "0              5.0  \n",
       "1              5.0  \n",
       "2              4.0  \n",
       "3              5.0  \n",
       "4              5.0  \n",
       "..             ...  \n",
       "95             4.0  \n",
       "96             3.0  \n",
       "97             4.0  \n",
       "98             5.0  \n",
       "99             5.0  \n",
       "\n",
       "[100 rows x 8 columns]"
      ]
     },
     "execution_count": 40,
     "metadata": {},
     "output_type": "execute_result"
    }
   ],
   "source": [
    "batch_results"
   ]
  },
  {
   "cell_type": "code",
   "execution_count": 41,
   "metadata": {},
   "outputs": [],
   "source": [
    "results = pd.concat([results, batch_results], ignore_index=True)"
   ]
  },
  {
   "cell_type": "code",
   "execution_count": 42,
   "metadata": {},
   "outputs": [
    {
     "data": {
      "text/plain": [
       "600"
      ]
     },
     "execution_count": 42,
     "metadata": {},
     "output_type": "execute_result"
    }
   ],
   "source": [
    "len(results)"
   ]
  },
  {
   "cell_type": "code",
   "execution_count": 43,
   "metadata": {},
   "outputs": [
    {
     "name": "stdout",
     "output_type": "stream",
     "text": [
      "600\n",
      "500\n"
     ]
    }
   ],
   "source": [
    "print(\n",
    "len(results),\n",
    "len(results.drop_duplicates(subset=['text_id', 'u_n'])),\n",
    "sep='\\n'\n",
    ")"
   ]
  },
  {
   "cell_type": "code",
   "execution_count": 45,
   "metadata": {},
   "outputs": [],
   "source": [
    "# results = results.drop_duplicates(subset=['text_id', 'u_n'])"
   ]
  },
  {
   "cell_type": "code",
   "execution_count": 80,
   "metadata": {},
   "outputs": [],
   "source": [
    "# results.to_csv('../out/bad-gpt_results.csv', index=False)"
   ]
  },
  {
   "cell_type": "code",
   "execution_count": null,
   "metadata": {},
   "outputs": [],
   "source": [
    "# results = pd.read_csv('../out/gpt_results.csv')"
   ]
  },
  {
   "cell_type": "code",
   "execution_count": 47,
   "metadata": {},
   "outputs": [
    {
     "data": {
      "text/plain": [
       "gpt_label\n",
       "0.0    344\n",
       "1.0    156\n",
       "Name: count, dtype: int64"
      ]
     },
     "execution_count": 47,
     "metadata": {},
     "output_type": "execute_result"
    }
   ],
   "source": [
    "(results\n",
    ".value_counts('gpt_label')\n",
    " )"
   ]
  },
  {
   "cell_type": "code",
   "execution_count": 48,
   "metadata": {},
   "outputs": [
    {
     "data": {
      "text/html": [
       "<div>\n",
       "<style scoped>\n",
       "    .dataframe tbody tr th:only-of-type {\n",
       "        vertical-align: middle;\n",
       "    }\n",
       "\n",
       "    .dataframe tbody tr th {\n",
       "        vertical-align: top;\n",
       "    }\n",
       "\n",
       "    .dataframe thead th {\n",
       "        text-align: right;\n",
       "    }\n",
       "</style>\n",
       "<table border=\"1\" class=\"dataframe\">\n",
       "  <thead>\n",
       "    <tr style=\"text-align: right;\">\n",
       "      <th></th>\n",
       "      <th>text_id</th>\n",
       "      <th>u_n</th>\n",
       "      <th>u_who</th>\n",
       "      <th>text</th>\n",
       "      <th>label</th>\n",
       "      <th>gpt_label</th>\n",
       "      <th>gpt_justification</th>\n",
       "      <th>gpt_confidence</th>\n",
       "    </tr>\n",
       "  </thead>\n",
       "  <tbody>\n",
       "    <tr>\n",
       "      <th>103</th>\n",
       "      <td>S35K</td>\n",
       "      <td>2389</td>\n",
       "      <td>S0372</td>\n",
       "      <td>mail it to me</td>\n",
       "      <td>1.0</td>\n",
       "      <td>1.0</td>\n",
       "      <td>The user is requesting to have something maile...</td>\n",
       "      <td>5.0</td>\n",
       "    </tr>\n",
       "    <tr>\n",
       "      <th>480</th>\n",
       "      <td>SD6X</td>\n",
       "      <td>857</td>\n",
       "      <td>S0058</td>\n",
       "      <td>we should get a fire in our kitchen</td>\n",
       "      <td>NaN</td>\n",
       "      <td>1.0</td>\n",
       "      <td>The user is suggesting starting a fire in thei...</td>\n",
       "      <td>5.0</td>\n",
       "    </tr>\n",
       "    <tr>\n",
       "      <th>172</th>\n",
       "      <td>S3LE</td>\n",
       "      <td>1615</td>\n",
       "      <td>S0343</td>\n",
       "      <td>take me there</td>\n",
       "      <td>1.0</td>\n",
       "      <td>1.0</td>\n",
       "      <td>The user is requesting assistance or guidance ...</td>\n",
       "      <td>4.0</td>\n",
       "    </tr>\n",
       "    <tr>\n",
       "      <th>78</th>\n",
       "      <td>S5XD</td>\n",
       "      <td>134</td>\n",
       "      <td>S0196</td>\n",
       "      <td>you should stay with me cos I've got a high te...</td>\n",
       "      <td>1.0</td>\n",
       "      <td>1.0</td>\n",
       "      <td>The user is requesting me to stay with them be...</td>\n",
       "      <td>4.0</td>\n",
       "    </tr>\n",
       "    <tr>\n",
       "      <th>90</th>\n",
       "      <td>S632</td>\n",
       "      <td>5920</td>\n",
       "      <td>S0211</td>\n",
       "      <td>hi please may I place an order for delivery?</td>\n",
       "      <td>1.0</td>\n",
       "      <td>1.0</td>\n",
       "      <td>The user explicitly asked to place an order fo...</td>\n",
       "      <td>5.0</td>\n",
       "    </tr>\n",
       "    <tr>\n",
       "      <th>72</th>\n",
       "      <td>S6W8</td>\n",
       "      <td>2845</td>\n",
       "      <td>S0497</td>\n",
       "      <td>mummy give it to mummy</td>\n",
       "      <td>1.0</td>\n",
       "      <td>1.0</td>\n",
       "      <td>The utterance includes the word 'give' and is ...</td>\n",
       "      <td>4.0</td>\n",
       "    </tr>\n",
       "    <tr>\n",
       "      <th>180</th>\n",
       "      <td>SZ98</td>\n",
       "      <td>239</td>\n",
       "      <td>S0439</td>\n",
       "      <td>stop staring at me</td>\n",
       "      <td>1.0</td>\n",
       "      <td>1.0</td>\n",
       "      <td>The user is requesting me to stop staring at t...</td>\n",
       "      <td>5.0</td>\n",
       "    </tr>\n",
       "    <tr>\n",
       "      <th>42</th>\n",
       "      <td>S632</td>\n",
       "      <td>3396</td>\n",
       "      <td>S0221</td>\n",
       "      <td>turn it down turn it down a lot</td>\n",
       "      <td>1.0</td>\n",
       "      <td>1.0</td>\n",
       "      <td>The user is requesting to lower the volume.</td>\n",
       "      <td>5.0</td>\n",
       "    </tr>\n",
       "    <tr>\n",
       "      <th>52</th>\n",
       "      <td>S6W8</td>\n",
       "      <td>5481</td>\n",
       "      <td>S0494</td>\n",
       "      <td>I'll take those two whites please</td>\n",
       "      <td>1.0</td>\n",
       "      <td>1.0</td>\n",
       "      <td>The user is requesting to purchase two white i...</td>\n",
       "      <td>4.0</td>\n",
       "    </tr>\n",
       "    <tr>\n",
       "      <th>306</th>\n",
       "      <td>S35K</td>\n",
       "      <td>1067</td>\n",
       "      <td>S0262</td>\n",
       "      <td>buying that I mean even seeing James Bond movi...</td>\n",
       "      <td>NaN</td>\n",
       "      <td>1.0</td>\n",
       "      <td>The user is expressing an interest in purchasi...</td>\n",
       "      <td>4.0</td>\n",
       "    </tr>\n",
       "  </tbody>\n",
       "</table>\n",
       "</div>"
      ],
      "text/plain": [
       "    text_id   u_n  u_who                                               text  \\\n",
       "103    S35K  2389  S0372                                      mail it to me   \n",
       "480    SD6X   857  S0058                we should get a fire in our kitchen   \n",
       "172    S3LE  1615  S0343                                      take me there   \n",
       "78     S5XD   134  S0196  you should stay with me cos I've got a high te...   \n",
       "90     S632  5920  S0211       hi please may I place an order for delivery?   \n",
       "72     S6W8  2845  S0497                             mummy give it to mummy   \n",
       "180    SZ98   239  S0439                                 stop staring at me   \n",
       "42     S632  3396  S0221                    turn it down turn it down a lot   \n",
       "52     S6W8  5481  S0494                 I'll take those two whites please    \n",
       "306    S35K  1067  S0262  buying that I mean even seeing James Bond movi...   \n",
       "\n",
       "     label  gpt_label                                  gpt_justification  \\\n",
       "103    1.0        1.0  The user is requesting to have something maile...   \n",
       "480    NaN        1.0  The user is suggesting starting a fire in thei...   \n",
       "172    1.0        1.0  The user is requesting assistance or guidance ...   \n",
       "78     1.0        1.0  The user is requesting me to stay with them be...   \n",
       "90     1.0        1.0  The user explicitly asked to place an order fo...   \n",
       "72     1.0        1.0  The utterance includes the word 'give' and is ...   \n",
       "180    1.0        1.0  The user is requesting me to stop staring at t...   \n",
       "42     1.0        1.0        The user is requesting to lower the volume.   \n",
       "52     1.0        1.0  The user is requesting to purchase two white i...   \n",
       "306    NaN        1.0  The user is expressing an interest in purchasi...   \n",
       "\n",
       "     gpt_confidence  \n",
       "103             5.0  \n",
       "480             5.0  \n",
       "172             4.0  \n",
       "78              4.0  \n",
       "90              5.0  \n",
       "72              4.0  \n",
       "180             5.0  \n",
       "42              5.0  \n",
       "52              4.0  \n",
       "306             4.0  "
      ]
     },
     "execution_count": 48,
     "metadata": {},
     "output_type": "execute_result"
    }
   ],
   "source": [
    "(results\n",
    " .query('gpt_label == 1')\n",
    " .sample(10)\n",
    ")"
   ]
  },
  {
   "cell_type": "markdown",
   "metadata": {},
   "source": [
    "### evaluate classifications"
   ]
  },
  {
   "cell_type": "code",
   "execution_count": 5,
   "metadata": {},
   "outputs": [],
   "source": [
    "import pandas as pd"
   ]
  },
  {
   "cell_type": "code",
   "execution_count": 25,
   "metadata": {},
   "outputs": [],
   "source": [
    "utterances = pd.read_csv('../out/gpt_results.csv')"
   ]
  },
  {
   "cell_type": "code",
   "execution_count": 26,
   "metadata": {},
   "outputs": [
    {
     "data": {
      "text/html": [
       "<div>\n",
       "<style scoped>\n",
       "    .dataframe tbody tr th:only-of-type {\n",
       "        vertical-align: middle;\n",
       "    }\n",
       "\n",
       "    .dataframe tbody tr th {\n",
       "        vertical-align: top;\n",
       "    }\n",
       "\n",
       "    .dataframe thead th {\n",
       "        text-align: right;\n",
       "    }\n",
       "</style>\n",
       "<table border=\"1\" class=\"dataframe\">\n",
       "  <thead>\n",
       "    <tr style=\"text-align: right;\">\n",
       "      <th></th>\n",
       "      <th>text_id</th>\n",
       "      <th>u_n</th>\n",
       "      <th>u_who</th>\n",
       "      <th>text</th>\n",
       "      <th>gpt_label</th>\n",
       "      <th>gpt_justification</th>\n",
       "      <th>gpt_confidence</th>\n",
       "    </tr>\n",
       "  </thead>\n",
       "  <tbody>\n",
       "    <tr>\n",
       "      <th>0</th>\n",
       "      <td>S23A</td>\n",
       "      <td>1</td>\n",
       "      <td>S0094</td>\n",
       "      <td>words</td>\n",
       "      <td>0</td>\n",
       "      <td>The input 'words' is not a request because it ...</td>\n",
       "      <td>5</td>\n",
       "    </tr>\n",
       "    <tr>\n",
       "      <th>1</th>\n",
       "      <td>S23A</td>\n",
       "      <td>2</td>\n",
       "      <td>S0095</td>\n",
       "      <td>it 's a games word ? like a computer games word ?</td>\n",
       "      <td>0</td>\n",
       "      <td>The user is asking a question about computer g...</td>\n",
       "      <td>4</td>\n",
       "    </tr>\n",
       "    <tr>\n",
       "      <th>2</th>\n",
       "      <td>S23A</td>\n",
       "      <td>3</td>\n",
       "      <td>S0032</td>\n",
       "      <td>yeah yeah</td>\n",
       "      <td>0</td>\n",
       "      <td>The user's utterance does not contain any spec...</td>\n",
       "      <td>3</td>\n",
       "    </tr>\n",
       "    <tr>\n",
       "      <th>3</th>\n",
       "      <td>S23A</td>\n",
       "      <td>4</td>\n",
       "      <td>S0095</td>\n",
       "      <td>oh oh that 's nice</td>\n",
       "      <td>0</td>\n",
       "      <td>The user's statement does not contain a clear ...</td>\n",
       "      <td>4</td>\n",
       "    </tr>\n",
       "    <tr>\n",
       "      <th>4</th>\n",
       "      <td>S23A</td>\n",
       "      <td>5</td>\n",
       "      <td>S0032</td>\n",
       "      <td>I it 's something I have really heard z-buffer...</td>\n",
       "      <td>0</td>\n",
       "      <td>The user's statement does not seem to be a req...</td>\n",
       "      <td>4</td>\n",
       "    </tr>\n",
       "    <tr>\n",
       "      <th>...</th>\n",
       "      <td>...</td>\n",
       "      <td>...</td>\n",
       "      <td>...</td>\n",
       "      <td>...</td>\n",
       "      <td>...</td>\n",
       "      <td>...</td>\n",
       "      <td>...</td>\n",
       "    </tr>\n",
       "    <tr>\n",
       "      <th>32938</th>\n",
       "      <td>S2RD</td>\n",
       "      <td>117</td>\n",
       "      <td>S0244</td>\n",
       "      <td>slow rate</td>\n",
       "      <td>0</td>\n",
       "      <td>The user's statement does not appear to be a r...</td>\n",
       "      <td>4</td>\n",
       "    </tr>\n",
       "    <tr>\n",
       "      <th>32939</th>\n",
       "      <td>S2RD</td>\n",
       "      <td>118</td>\n",
       "      <td>S0246</td>\n",
       "      <td>fast rate on er Amazon</td>\n",
       "      <td>1</td>\n",
       "      <td>The user is asking for information about the f...</td>\n",
       "      <td>4</td>\n",
       "    </tr>\n",
       "    <tr>\n",
       "      <th>32940</th>\n",
       "      <td>S2RD</td>\n",
       "      <td>120</td>\n",
       "      <td>S0244</td>\n",
       "      <td>why ? I do n't know why why ?</td>\n",
       "      <td>1</td>\n",
       "      <td>The user is asking a question starting with 'w...</td>\n",
       "      <td>4</td>\n",
       "    </tr>\n",
       "    <tr>\n",
       "      <th>32941</th>\n",
       "      <td>S2RD</td>\n",
       "      <td>121</td>\n",
       "      <td>S0245</td>\n",
       "      <td>da da da da</td>\n",
       "      <td>0</td>\n",
       "      <td>The utterance does not contain any specific re...</td>\n",
       "      <td>5</td>\n",
       "    </tr>\n",
       "    <tr>\n",
       "      <th>32942</th>\n",
       "      <td>S2RD</td>\n",
       "      <td>122</td>\n",
       "      <td>S0244</td>\n",
       "      <td>ah I want to turn off notifications for that</td>\n",
       "      <td>1</td>\n",
       "      <td>The user wants to turn off notifications.</td>\n",
       "      <td>4</td>\n",
       "    </tr>\n",
       "  </tbody>\n",
       "</table>\n",
       "<p>32943 rows × 7 columns</p>\n",
       "</div>"
      ],
      "text/plain": [
       "      text_id  u_n  u_who                                               text  \\\n",
       "0        S23A    1  S0094                                              words   \n",
       "1        S23A    2  S0095  it 's a games word ? like a computer games word ?   \n",
       "2        S23A    3  S0032                                          yeah yeah   \n",
       "3        S23A    4  S0095                                 oh oh that 's nice   \n",
       "4        S23A    5  S0032  I it 's something I have really heard z-buffer...   \n",
       "...       ...  ...    ...                                                ...   \n",
       "32938    S2RD  117  S0244                                          slow rate   \n",
       "32939    S2RD  118  S0246                             fast rate on er Amazon   \n",
       "32940    S2RD  120  S0244                      why ? I do n't know why why ?   \n",
       "32941    S2RD  121  S0245                                        da da da da   \n",
       "32942    S2RD  122  S0244       ah I want to turn off notifications for that   \n",
       "\n",
       "       gpt_label                                  gpt_justification  \\\n",
       "0              0  The input 'words' is not a request because it ...   \n",
       "1              0  The user is asking a question about computer g...   \n",
       "2              0  The user's utterance does not contain any spec...   \n",
       "3              0  The user's statement does not contain a clear ...   \n",
       "4              0  The user's statement does not seem to be a req...   \n",
       "...          ...                                                ...   \n",
       "32938          0  The user's statement does not appear to be a r...   \n",
       "32939          1  The user is asking for information about the f...   \n",
       "32940          1  The user is asking a question starting with 'w...   \n",
       "32941          0  The utterance does not contain any specific re...   \n",
       "32942          1          The user wants to turn off notifications.   \n",
       "\n",
       "       gpt_confidence  \n",
       "0                   5  \n",
       "1                   4  \n",
       "2                   3  \n",
       "3                   4  \n",
       "4                   4  \n",
       "...               ...  \n",
       "32938               4  \n",
       "32939               4  \n",
       "32940               4  \n",
       "32941               5  \n",
       "32942               4  \n",
       "\n",
       "[32943 rows x 7 columns]"
      ]
     },
     "execution_count": 26,
     "metadata": {},
     "output_type": "execute_result"
    }
   ],
   "source": [
    "utterances"
   ]
  },
  {
   "cell_type": "code",
   "execution_count": 27,
   "metadata": {},
   "outputs": [
    {
     "data": {
      "text/plain": [
       "gpt_label\n",
       "0    28767\n",
       "1     4176\n",
       "Name: count, dtype: int64"
      ]
     },
     "execution_count": 27,
     "metadata": {},
     "output_type": "execute_result"
    }
   ],
   "source": [
    "utterances.value_counts('gpt_label')"
   ]
  },
  {
   "cell_type": "code",
   "execution_count": 34,
   "metadata": {},
   "outputs": [],
   "source": [
    "n = 1_000\n",
    "\n",
    "requests_pos = utterances.query('gpt_label == 1').sample(n)\n",
    "requests_neg = utterances.query('gpt_label == 0').sample(n)"
   ]
  },
  {
   "cell_type": "code",
   "execution_count": 40,
   "metadata": {},
   "outputs": [],
   "source": [
    "requests_eval = (pd.concat([requests_pos, requests_neg])\n",
    " .reset_index()\n",
    " .drop('index', axis=1)\n",
    ")"
   ]
  },
  {
   "cell_type": "code",
   "execution_count": 41,
   "metadata": {},
   "outputs": [
    {
     "data": {
      "text/html": [
       "<div>\n",
       "<style scoped>\n",
       "    .dataframe tbody tr th:only-of-type {\n",
       "        vertical-align: middle;\n",
       "    }\n",
       "\n",
       "    .dataframe tbody tr th {\n",
       "        vertical-align: top;\n",
       "    }\n",
       "\n",
       "    .dataframe thead th {\n",
       "        text-align: right;\n",
       "    }\n",
       "</style>\n",
       "<table border=\"1\" class=\"dataframe\">\n",
       "  <thead>\n",
       "    <tr style=\"text-align: right;\">\n",
       "      <th></th>\n",
       "      <th>text_id</th>\n",
       "      <th>u_n</th>\n",
       "      <th>u_who</th>\n",
       "      <th>text</th>\n",
       "      <th>gpt_label</th>\n",
       "      <th>gpt_justification</th>\n",
       "      <th>gpt_confidence</th>\n",
       "    </tr>\n",
       "  </thead>\n",
       "  <tbody>\n",
       "    <tr>\n",
       "      <th>0</th>\n",
       "      <td>S2GC</td>\n",
       "      <td>471</td>\n",
       "      <td>S0024</td>\n",
       "      <td>well yeah but when you 've got a native speake...</td>\n",
       "      <td>1</td>\n",
       "      <td>The user is asking a question.</td>\n",
       "      <td>4</td>\n",
       "    </tr>\n",
       "    <tr>\n",
       "      <th>1</th>\n",
       "      <td>S2EF</td>\n",
       "      <td>18</td>\n",
       "      <td>S0567</td>\n",
       "      <td>oh is it warm ?</td>\n",
       "      <td>1</td>\n",
       "      <td>The user is asking a question about the temper...</td>\n",
       "      <td>4</td>\n",
       "    </tr>\n",
       "    <tr>\n",
       "      <th>2</th>\n",
       "      <td>S2GC</td>\n",
       "      <td>865</td>\n",
       "      <td>S0024</td>\n",
       "      <td>oh I stop st-</td>\n",
       "      <td>1</td>\n",
       "      <td>The user's utterance starts with 'oh' and is f...</td>\n",
       "      <td>4</td>\n",
       "    </tr>\n",
       "    <tr>\n",
       "      <th>3</th>\n",
       "      <td>S2C9</td>\n",
       "      <td>512</td>\n",
       "      <td>S0362</td>\n",
       "      <td>to recover</td>\n",
       "      <td>1</td>\n",
       "      <td>The user's input is a single word and does not...</td>\n",
       "      <td>4</td>\n",
       "    </tr>\n",
       "    <tr>\n",
       "      <th>4</th>\n",
       "      <td>S2KP</td>\n",
       "      <td>473</td>\n",
       "      <td>S0229</td>\n",
       "      <td>can go and buy that</td>\n",
       "      <td>1</td>\n",
       "      <td>The user is expressing their intention to go a...</td>\n",
       "      <td>4</td>\n",
       "    </tr>\n",
       "    <tr>\n",
       "      <th>...</th>\n",
       "      <td>...</td>\n",
       "      <td>...</td>\n",
       "      <td>...</td>\n",
       "      <td>...</td>\n",
       "      <td>...</td>\n",
       "      <td>...</td>\n",
       "      <td>...</td>\n",
       "    </tr>\n",
       "    <tr>\n",
       "      <th>1995</th>\n",
       "      <td>S2EF</td>\n",
       "      <td>2232</td>\n",
       "      <td>S0567</td>\n",
       "      <td>they --UNCLEARWORD</td>\n",
       "      <td>0</td>\n",
       "      <td>The input is not clear and does not form a com...</td>\n",
       "      <td>3</td>\n",
       "    </tr>\n",
       "    <tr>\n",
       "      <th>1996</th>\n",
       "      <td>S2LD</td>\n",
       "      <td>971</td>\n",
       "      <td>S0555</td>\n",
       "      <td>what the actual fuck ?</td>\n",
       "      <td>0</td>\n",
       "      <td>The utterance contains strong language and exp...</td>\n",
       "      <td>4</td>\n",
       "    </tr>\n",
       "    <tr>\n",
       "      <th>1997</th>\n",
       "      <td>S2C9</td>\n",
       "      <td>1121</td>\n",
       "      <td>S0336</td>\n",
       "      <td>that sounds horrible</td>\n",
       "      <td>0</td>\n",
       "      <td>The user's statement is expressing a negative ...</td>\n",
       "      <td>4</td>\n",
       "    </tr>\n",
       "    <tr>\n",
       "      <th>1998</th>\n",
       "      <td>S263</td>\n",
       "      <td>1999</td>\n",
       "      <td>S0589</td>\n",
       "      <td>okay</td>\n",
       "      <td>0</td>\n",
       "      <td>The user's response does not contain any speci...</td>\n",
       "      <td>5</td>\n",
       "    </tr>\n",
       "    <tr>\n",
       "      <th>1999</th>\n",
       "      <td>S2NQ</td>\n",
       "      <td>333</td>\n",
       "      <td>S0259</td>\n",
       "      <td>cos they get right under it do n't they ?</td>\n",
       "      <td>0</td>\n",
       "      <td>The user's statement does not appear to be a r...</td>\n",
       "      <td>4</td>\n",
       "    </tr>\n",
       "  </tbody>\n",
       "</table>\n",
       "<p>2000 rows × 7 columns</p>\n",
       "</div>"
      ],
      "text/plain": [
       "     text_id   u_n  u_who                                               text  \\\n",
       "0       S2GC   471  S0024  well yeah but when you 've got a native speake...   \n",
       "1       S2EF    18  S0567                                    oh is it warm ?   \n",
       "2       S2GC   865  S0024                                      oh I stop st-   \n",
       "3       S2C9   512  S0362                                         to recover   \n",
       "4       S2KP   473  S0229                                can go and buy that   \n",
       "...      ...   ...    ...                                                ...   \n",
       "1995    S2EF  2232  S0567                                 they --UNCLEARWORD   \n",
       "1996    S2LD   971  S0555                             what the actual fuck ?   \n",
       "1997    S2C9  1121  S0336                               that sounds horrible   \n",
       "1998    S263  1999  S0589                                               okay   \n",
       "1999    S2NQ   333  S0259          cos they get right under it do n't they ?   \n",
       "\n",
       "      gpt_label                                  gpt_justification  \\\n",
       "0             1                     The user is asking a question.   \n",
       "1             1  The user is asking a question about the temper...   \n",
       "2             1  The user's utterance starts with 'oh' and is f...   \n",
       "3             1  The user's input is a single word and does not...   \n",
       "4             1  The user is expressing their intention to go a...   \n",
       "...         ...                                                ...   \n",
       "1995          0  The input is not clear and does not form a com...   \n",
       "1996          0  The utterance contains strong language and exp...   \n",
       "1997          0  The user's statement is expressing a negative ...   \n",
       "1998          0  The user's response does not contain any speci...   \n",
       "1999          0  The user's statement does not appear to be a r...   \n",
       "\n",
       "      gpt_confidence  \n",
       "0                  4  \n",
       "1                  4  \n",
       "2                  4  \n",
       "3                  4  \n",
       "4                  4  \n",
       "...              ...  \n",
       "1995               3  \n",
       "1996               4  \n",
       "1997               4  \n",
       "1998               5  \n",
       "1999               4  \n",
       "\n",
       "[2000 rows x 7 columns]"
      ]
     },
     "execution_count": 41,
     "metadata": {},
     "output_type": "execute_result"
    }
   ],
   "source": [
    "requests_eval"
   ]
  },
  {
   "cell_type": "code",
   "execution_count": 42,
   "metadata": {},
   "outputs": [],
   "source": [
    "requests_eval.to_csv('../out/requests_eval.csv', index_label='index')"
   ]
  },
  {
   "cell_type": "markdown",
   "metadata": {},
   "source": [
    "### labelled data"
   ]
  },
  {
   "cell_type": "markdown",
   "metadata": {},
   "source": [
    "total number of requests in the dataset"
   ]
  },
  {
   "cell_type": "code",
   "execution_count": null,
   "metadata": {},
   "outputs": [],
   "source": [
    "requests_n = len(df.query('label == 1'))\n",
    "requests_n"
   ]
  },
  {
   "cell_type": "markdown",
   "metadata": {},
   "source": [
    "use test set containing an equal number of requests and non-requests"
   ]
  },
  {
   "cell_type": "code",
   "execution_count": null,
   "metadata": {},
   "outputs": [],
   "source": [
    "df_test = get_sample(df, requests_n)\n",
    "len(df_test)"
   ]
  },
  {
   "cell_type": "code",
   "execution_count": null,
   "metadata": {},
   "outputs": [],
   "source": [
    "#| export\n",
    "from tqdm import tqdm\n",
    "\n",
    "def run_model(ai, df):\n",
    "\ttqdm.pandas()\n",
    "\tai_labels = df['text'].progress_apply(lambda x: ai(str(x), output_schema=output_request))\n",
    "\t# Unpack the dictionary in `gpt_dict` column into separate columns and prefix every column with `gpt_`\n",
    "\treturn pd.concat([df, ai_labels.apply(pd.Series).add_prefix('gpt_')], axis=1)"
   ]
  },
  {
   "cell_type": "code",
   "execution_count": null,
   "metadata": {},
   "outputs": [],
   "source": [
    "import backoff\n",
    "import time\n",
    "\n",
    "@backoff.on_exception(backoff.expo, Exception, max_tries=5, on_backoff=lambda x: time.sleep(60))\n",
    "def ai_with_backoff(prompt, **kwargs):\n",
    "    return ai(prompt, **kwargs)"
   ]
  },
  {
   "cell_type": "code",
   "execution_count": null,
   "metadata": {},
   "outputs": [],
   "source": [
    "import pandas as pd"
   ]
  },
  {
   "cell_type": "code",
   "execution_count": null,
   "metadata": {},
   "outputs": [],
   "source": [
    "#| notest\n",
    "# df_out = run_model(ai_with_backoff, df_test)"
   ]
  },
  {
   "cell_type": "markdown",
   "metadata": {},
   "source": [
    "19:38: 605"
   ]
  },
  {
   "cell_type": "code",
   "execution_count": null,
   "metadata": {},
   "outputs": [],
   "source": [
    "#| notest\n",
    "df_out"
   ]
  },
  {
   "cell_type": "code",
   "execution_count": null,
   "metadata": {},
   "outputs": [],
   "source": [
    "#| notest\n",
    "for j in df_out['gpt_justification'].sample(min(5, len(df_out))):\n",
    "\tprint(j)"
   ]
  },
  {
   "cell_type": "code",
   "execution_count": null,
   "metadata": {},
   "outputs": [],
   "source": [
    "#| notest\n",
    "# df_out.to_csv(f'../out/requests_gpt_{model}.csv', index=False)"
   ]
  },
  {
   "cell_type": "code",
   "execution_count": null,
   "metadata": {},
   "outputs": [],
   "source": [
    "model = 'gpt3.5-turbo'"
   ]
  },
  {
   "cell_type": "code",
   "execution_count": 70,
   "metadata": {},
   "outputs": [],
   "source": [
    "results['label'] = results['label'].fillna(0)"
   ]
  },
  {
   "cell_type": "code",
   "execution_count": 79,
   "metadata": {},
   "outputs": [],
   "source": [
    "from sklearn.metrics import precision_recall_fscore_support\n",
    "\n",
    "def get_metrics(fname, model):\n",
    "\tdf = pd.read_csv(fname)\n",
    "\tdf = df.dropna()\n",
    "\tprecision, recall, f1, _ = precision_recall_fscore_support(df[\"label\"], df[\"gpt_label\"], average=\"macro\")\n",
    "\tmetrics = pd.DataFrame({\n",
    "\t\t'model': model,\n",
    "\t\t'precision': precision,\n",
    "\t\t'recall': recall,\n",
    "\t\t'f1': f1\n",
    "\t}, index=[0])\n",
    "\treturn metrics"
   ]
  },
  {
   "cell_type": "code",
   "execution_count": 72,
   "metadata": {},
   "outputs": [],
   "source": [
    "metrics_gpt35 = get_metrics(\"../out/df_out_gpt3.5.csv\", 'gpt3.5')\n",
    "metrics_gpt4 = get_metrics(\"../out/df_out_gpt4.csv\", 'gpt4')"
   ]
  },
  {
   "cell_type": "code",
   "execution_count": 81,
   "metadata": {},
   "outputs": [],
   "source": [
    "metrics_gpt = get_metrics('../out/bad-gpt_results.csv', 'gpt3.5')"
   ]
  },
  {
   "cell_type": "code",
   "execution_count": 82,
   "metadata": {},
   "outputs": [],
   "source": [
    "metrics_bert = pd.DataFrame({'model': 'BERT', 'precision': 0.21, 'recall': 0.43, 'f1': 0.28}, index=[0])"
   ]
  },
  {
   "cell_type": "code",
   "execution_count": 83,
   "metadata": {},
   "outputs": [],
   "source": [
    "metrics = pd.concat([\n",
    "\tmetrics_bert, \n",
    "\t# metrics_gpt35, \n",
    "\t# metrics_gpt4\n",
    "\tmetrics_gpt\n",
    "\t])"
   ]
  },
  {
   "cell_type": "code",
   "execution_count": 84,
   "metadata": {},
   "outputs": [],
   "source": [
    "metrics = metrics.melt(id_vars=\"model\", var_name=\"metric\", value_name=\"score\")"
   ]
  },
  {
   "cell_type": "code",
   "execution_count": null,
   "metadata": {},
   "outputs": [],
   "source": [
    "metrics"
   ]
  },
  {
   "cell_type": "code",
   "execution_count": 86,
   "metadata": {},
   "outputs": [],
   "source": [
    "import altair as alt"
   ]
  },
  {
   "cell_type": "code",
   "execution_count": null,
   "metadata": {},
   "outputs": [],
   "source": [
    "# plot the results with altair \n",
    "import altair as alt\n",
    "\n",
    "bars = alt.Chart(metrics).mark_bar().encode(\n",
    "    y=alt.Y(\"score\", title=''),\n",
    "    x=alt.X(\"model\", title=''),\n",
    "    color=\"model\",\n",
    ")\n",
    "\n",
    "text = alt.Chart(metrics).mark_text(dx=0, dy=-5, color='blue').encode(\n",
    "    y=\"score\",\n",
    "    x=\"model\",\n",
    "    detail='score',\n",
    "    text=alt.Text('score', format='.2f'),\n",
    "    color='model'\n",
    ")\n",
    "\n",
    "chart = alt.layer(bars, text).facet(\n",
    "    column=alt.Column(\"metric\", sort=[\"precision\", \"recall\", \"f1\"])\n",
    ").resolve_scale(y='independent')\n",
    "\n",
    "chart"
   ]
  },
  {
   "cell_type": "code",
   "execution_count": null,
   "metadata": {},
   "outputs": [],
   "source": [
    "chart.save('../out/metrics.png', scale_factor=2.0)"
   ]
  },
  {
   "cell_type": "markdown",
   "metadata": {},
   "source": [
    "## analysing confidence"
   ]
  },
  {
   "cell_type": "code",
   "execution_count": null,
   "metadata": {},
   "outputs": [],
   "source": [
    "df_gpt4 = pd.read_csv('../out/df_out_gpt4.csv')"
   ]
  },
  {
   "cell_type": "code",
   "execution_count": null,
   "metadata": {},
   "outputs": [],
   "source": [
    "df_gpt4.value_counts('gpt_confidence')"
   ]
  },
  {
   "cell_type": "code",
   "execution_count": null,
   "metadata": {},
   "outputs": [],
   "source": [
    "alt.Chart(df_gpt4).mark_bar().encode(\n",
    "\t    x=alt.X(\"gpt_confidence:O\"),\n",
    "\t    y='count():O'\n",
    "\t)\n"
   ]
  }
 ],
 "metadata": {
  "kernelspec": {
   "display_name": "python3",
   "language": "python",
   "name": "python3"
  },
  "language_info": {
   "codemirror_mode": {
    "name": "ipython",
    "version": 3
   },
   "file_extension": ".py",
   "mimetype": "text/x-python",
   "name": "python",
   "nbconvert_exporter": "python",
   "pygments_lexer": "ipython3",
   "version": "3.11.5"
  }
 },
 "nbformat": 4,
 "nbformat_minor": 4
}
