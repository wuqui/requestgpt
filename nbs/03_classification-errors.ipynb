{
 "cells": [
  {
   "cell_type": "markdown",
   "metadata": {},
   "source": [
    "# Analyse classification errors"
   ]
  },
  {
   "cell_type": "code",
   "execution_count": 7,
   "metadata": {},
   "outputs": [
    {
     "name": "stdout",
     "output_type": "stream",
     "text": [
      "The autoreload extension is already loaded. To reload it, use:\n",
      "  %reload_ext autoreload\n"
     ]
    }
   ],
   "source": [
    "%load_ext autoreload\n",
    "%autoreload 2"
   ]
  },
  {
   "cell_type": "code",
   "execution_count": 9,
   "metadata": {},
   "outputs": [],
   "source": [
    "import pandas as pd"
   ]
  },
  {
   "cell_type": "code",
   "execution_count": 18,
   "metadata": {},
   "outputs": [],
   "source": [
    "utterances = pd.read_csv('../in/stat-report/predictions_validation_config05.csv')"
   ]
  },
  {
   "cell_type": "code",
   "execution_count": 19,
   "metadata": {},
   "outputs": [
    {
     "data": {
      "text/html": [
       "<div>\n",
       "<style scoped>\n",
       "    .dataframe tbody tr th:only-of-type {\n",
       "        vertical-align: middle;\n",
       "    }\n",
       "\n",
       "    .dataframe tbody tr th {\n",
       "        vertical-align: top;\n",
       "    }\n",
       "\n",
       "    .dataframe thead th {\n",
       "        text-align: right;\n",
       "    }\n",
       "</style>\n",
       "<table border=\"1\" class=\"dataframe\">\n",
       "  <thead>\n",
       "    <tr style=\"text-align: right;\">\n",
       "      <th></th>\n",
       "      <th>prediction</th>\n",
       "      <th>label</th>\n",
       "      <th>sentID</th>\n",
       "      <th>text</th>\n",
       "      <th>speakerID</th>\n",
       "    </tr>\n",
       "  </thead>\n",
       "  <tbody>\n",
       "    <tr>\n",
       "      <th>0</th>\n",
       "      <td>1</td>\n",
       "      <td>0</td>\n",
       "      <td>S28F_558</td>\n",
       "      <td>no no</td>\n",
       "      <td>S0255</td>\n",
       "    </tr>\n",
       "    <tr>\n",
       "      <th>1</th>\n",
       "      <td>1</td>\n",
       "      <td>0</td>\n",
       "      <td>S28F_917</td>\n",
       "      <td>you want another I always find with wine</td>\n",
       "      <td>S0315</td>\n",
       "    </tr>\n",
       "    <tr>\n",
       "      <th>2</th>\n",
       "      <td>1</td>\n",
       "      <td>0</td>\n",
       "      <td>S38V_150</td>\n",
       "      <td>if you just put a hobbyhorse on this balcony</td>\n",
       "      <td>S0192</td>\n",
       "    </tr>\n",
       "    <tr>\n",
       "      <th>3</th>\n",
       "      <td>1</td>\n",
       "      <td>0</td>\n",
       "      <td>S38V_1591</td>\n",
       "      <td>can they just stand up for now?</td>\n",
       "      <td>S0192</td>\n",
       "    </tr>\n",
       "    <tr>\n",
       "      <th>5</th>\n",
       "      <td>1</td>\n",
       "      <td>0</td>\n",
       "      <td>S3LE_1234</td>\n",
       "      <td>excuse me oh sorry let me just take that away</td>\n",
       "      <td>UNKFEMALE</td>\n",
       "    </tr>\n",
       "    <tr>\n",
       "      <th>...</th>\n",
       "      <td>...</td>\n",
       "      <td>...</td>\n",
       "      <td>...</td>\n",
       "      <td>...</td>\n",
       "      <td>...</td>\n",
       "    </tr>\n",
       "    <tr>\n",
       "      <th>5742</th>\n",
       "      <td>0</td>\n",
       "      <td>1</td>\n",
       "      <td>STKH_451</td>\n",
       "      <td>have a look is it still recording?</td>\n",
       "      <td>S0104</td>\n",
       "    </tr>\n",
       "    <tr>\n",
       "      <th>5762</th>\n",
       "      <td>0</td>\n",
       "      <td>1</td>\n",
       "      <td>SUC7_291</td>\n",
       "      <td>I don't want the rest of that</td>\n",
       "      <td>S0621</td>\n",
       "    </tr>\n",
       "    <tr>\n",
       "      <th>6437</th>\n",
       "      <td>0</td>\n",
       "      <td>1</td>\n",
       "      <td>SV28_20</td>\n",
       "      <td>do we have any pen and paper? because we haven...</td>\n",
       "      <td>S0198</td>\n",
       "    </tr>\n",
       "    <tr>\n",
       "      <th>6654</th>\n",
       "      <td>0</td>\n",
       "      <td>1</td>\n",
       "      <td>SWY3_886</td>\n",
       "      <td>let him have a go</td>\n",
       "      <td>S0391</td>\n",
       "    </tr>\n",
       "    <tr>\n",
       "      <th>6731</th>\n",
       "      <td>0</td>\n",
       "      <td>1</td>\n",
       "      <td>SYEF_718</td>\n",
       "      <td>oh dear be quick</td>\n",
       "      <td>S0525</td>\n",
       "    </tr>\n",
       "  </tbody>\n",
       "</table>\n",
       "<p>158 rows × 5 columns</p>\n",
       "</div>"
      ],
      "text/plain": [
       "      prediction  label     sentID  \\\n",
       "0              1      0   S28F_558   \n",
       "1              1      0   S28F_917   \n",
       "2              1      0   S38V_150   \n",
       "3              1      0  S38V_1591   \n",
       "5              1      0  S3LE_1234   \n",
       "...          ...    ...        ...   \n",
       "5742           0      1   STKH_451   \n",
       "5762           0      1   SUC7_291   \n",
       "6437           0      1    SV28_20   \n",
       "6654           0      1   SWY3_886   \n",
       "6731           0      1   SYEF_718   \n",
       "\n",
       "                                                   text  speakerID  \n",
       "0                                                 no no      S0255  \n",
       "1              you want another I always find with wine      S0315  \n",
       "2          if you just put a hobbyhorse on this balcony      S0192  \n",
       "3                       can they just stand up for now?      S0192  \n",
       "5         excuse me oh sorry let me just take that away  UNKFEMALE  \n",
       "...                                                 ...        ...  \n",
       "5742                 have a look is it still recording?      S0104  \n",
       "5762                      I don't want the rest of that      S0621  \n",
       "6437  do we have any pen and paper? because we haven...      S0198  \n",
       "6654                                  let him have a go      S0391  \n",
       "6731                                   oh dear be quick      S0525  \n",
       "\n",
       "[158 rows x 5 columns]"
      ]
     },
     "execution_count": 19,
     "metadata": {},
     "output_type": "execute_result"
    }
   ],
   "source": [
    "utterances_errors = utterances.query('prediction != label')\n",
    "utterances_errors"
   ]
  },
  {
   "cell_type": "code",
   "execution_count": 20,
   "metadata": {},
   "outputs": [],
   "source": [
    "utterances_errors.to_csv('../out/classification-errors.csv', index=False)"
   ]
  }
 ],
 "metadata": {
  "kernelspec": {
   "display_name": "requestgpt",
   "language": "python",
   "name": "python3"
  },
  "language_info": {
   "codemirror_mode": {
    "name": "ipython",
    "version": 3
   },
   "file_extension": ".py",
   "mimetype": "text/x-python",
   "name": "python",
   "nbconvert_exporter": "python",
   "pygments_lexer": "ipython3",
   "version": "3.11.5"
  }
 },
 "nbformat": 4,
 "nbformat_minor": 2
}
