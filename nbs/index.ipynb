{
 "cells": [
  {
   "cell_type": "code",
   "execution_count": 1,
   "metadata": {},
   "outputs": [],
   "source": [
    "%load_ext autoreload\n",
    "%autoreload 2"
   ]
  },
  {
   "cell_type": "code",
   "execution_count": 2,
   "metadata": {},
   "outputs": [],
   "source": [
    "#| hide\n",
    "from requestgpt.core import *"
   ]
  },
  {
   "cell_type": "markdown",
   "metadata": {},
   "source": [
    "# RequestGPT\n",
    "\n",
    "> Analysing requests using GPT."
   ]
  },
  {
   "cell_type": "code",
   "execution_count": 4,
   "metadata": {},
   "outputs": [
    {
     "data": {
      "text/html": [
       "<div>\n",
       "<style scoped>\n",
       "    .dataframe tbody tr th:only-of-type {\n",
       "        vertical-align: middle;\n",
       "    }\n",
       "\n",
       "    .dataframe tbody tr th {\n",
       "        vertical-align: top;\n",
       "    }\n",
       "\n",
       "    .dataframe thead th {\n",
       "        text-align: right;\n",
       "    }\n",
       "</style>\n",
       "<table border=\"1\" class=\"dataframe\">\n",
       "  <thead>\n",
       "    <tr style=\"text-align: right;\">\n",
       "      <th></th>\n",
       "      <th>0</th>\n",
       "      <th>1</th>\n",
       "      <th>2</th>\n",
       "      <th>3</th>\n",
       "      <th>4</th>\n",
       "    </tr>\n",
       "  </thead>\n",
       "  <tbody>\n",
       "    <tr>\n",
       "      <th>0</th>\n",
       "      <td>0.660352</td>\n",
       "      <td>0.374871</td>\n",
       "      <td>0.122114</td>\n",
       "      <td>0.413474</td>\n",
       "      <td>0.548258</td>\n",
       "    </tr>\n",
       "    <tr>\n",
       "      <th>1</th>\n",
       "      <td>0.587020</td>\n",
       "      <td>0.878815</td>\n",
       "      <td>0.291667</td>\n",
       "      <td>0.944811</td>\n",
       "      <td>0.174755</td>\n",
       "    </tr>\n",
       "    <tr>\n",
       "      <th>2</th>\n",
       "      <td>0.611433</td>\n",
       "      <td>0.808027</td>\n",
       "      <td>0.195298</td>\n",
       "      <td>0.086731</td>\n",
       "      <td>0.169615</td>\n",
       "    </tr>\n",
       "    <tr>\n",
       "      <th>3</th>\n",
       "      <td>0.358779</td>\n",
       "      <td>0.460175</td>\n",
       "      <td>0.095216</td>\n",
       "      <td>0.978313</td>\n",
       "      <td>0.782355</td>\n",
       "    </tr>\n",
       "    <tr>\n",
       "      <th>4</th>\n",
       "      <td>0.908848</td>\n",
       "      <td>0.337949</td>\n",
       "      <td>0.092168</td>\n",
       "      <td>0.985771</td>\n",
       "      <td>0.888502</td>\n",
       "    </tr>\n",
       "    <tr>\n",
       "      <th>5</th>\n",
       "      <td>0.994304</td>\n",
       "      <td>0.684957</td>\n",
       "      <td>0.689514</td>\n",
       "      <td>0.313059</td>\n",
       "      <td>0.573864</td>\n",
       "    </tr>\n",
       "    <tr>\n",
       "      <th>6</th>\n",
       "      <td>0.128596</td>\n",
       "      <td>0.427849</td>\n",
       "      <td>0.852046</td>\n",
       "      <td>0.022732</td>\n",
       "      <td>0.628247</td>\n",
       "    </tr>\n",
       "    <tr>\n",
       "      <th>7</th>\n",
       "      <td>0.811634</td>\n",
       "      <td>0.362612</td>\n",
       "      <td>0.995827</td>\n",
       "      <td>0.576982</td>\n",
       "      <td>0.812442</td>\n",
       "    </tr>\n",
       "    <tr>\n",
       "      <th>8</th>\n",
       "      <td>0.535641</td>\n",
       "      <td>0.763027</td>\n",
       "      <td>0.865717</td>\n",
       "      <td>0.797448</td>\n",
       "      <td>0.906843</td>\n",
       "    </tr>\n",
       "    <tr>\n",
       "      <th>9</th>\n",
       "      <td>0.623603</td>\n",
       "      <td>0.694726</td>\n",
       "      <td>0.313861</td>\n",
       "      <td>0.284018</td>\n",
       "      <td>0.416073</td>\n",
       "    </tr>\n",
       "  </tbody>\n",
       "</table>\n",
       "</div>"
      ],
      "text/plain": [
       "          0         1         2         3         4\n",
       "0  0.660352  0.374871  0.122114  0.413474  0.548258\n",
       "1  0.587020  0.878815  0.291667  0.944811  0.174755\n",
       "2  0.611433  0.808027  0.195298  0.086731  0.169615\n",
       "3  0.358779  0.460175  0.095216  0.978313  0.782355\n",
       "4  0.908848  0.337949  0.092168  0.985771  0.888502\n",
       "5  0.994304  0.684957  0.689514  0.313059  0.573864\n",
       "6  0.128596  0.427849  0.852046  0.022732  0.628247\n",
       "7  0.811634  0.362612  0.995827  0.576982  0.812442\n",
       "8  0.535641  0.763027  0.865717  0.797448  0.906843\n",
       "9  0.623603  0.694726  0.313861  0.284018  0.416073"
      ]
     },
     "execution_count": 4,
     "metadata": {},
     "output_type": "execute_result"
    }
   ],
   "source": [
    "show_df()"
   ]
  }
 ],
 "metadata": {
  "kernelspec": {
   "display_name": "python3",
   "language": "python",
   "name": "python3"
  },
  "language_info": {
   "codemirror_mode": {
    "name": "ipython",
    "version": 3
   },
   "file_extension": ".py",
   "mimetype": "text/x-python",
   "name": "python",
   "nbconvert_exporter": "python",
   "pygments_lexer": "ipython3",
   "version": "3.11.5"
  }
 },
 "nbformat": 4,
 "nbformat_minor": 4
}
